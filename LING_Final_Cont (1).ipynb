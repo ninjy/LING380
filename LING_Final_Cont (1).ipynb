{
  "nbformat": 4,
  "nbformat_minor": 0,
  "metadata": {
    "colab": {
      "name": "LING Final Cont.ipynb",
      "provenance": []
    },
    "kernelspec": {
      "name": "python3",
      "display_name": "Python 3"
    },
    "language_info": {
      "name": "python"
    }
  },
  "cells": [
    {
      "cell_type": "code",
      "execution_count": null,
      "metadata": {
        "colab": {
          "base_uri": "https://localhost:8080/",
          "height": 350
        },
        "id": "-4B2ej3O3Tuk",
        "outputId": "77647815-6d3b-452a-8584-a756ddd3c670"
      },
      "outputs": [
        {
          "output_type": "display_data",
          "data": {
            "text/plain": [
              "<Figure size 720x360 with 1 Axes>"
            ],
            "image/png": "[encoded data removed]"
          },
          "metadata": {
            "needs_background": "light"
          }
        }
      ],
      "source": [
        "import numpy as np\n",
        "import matplotlib.pyplot as plt\n",
        " \n",
        "\n",
        "# creating the dataset\n",
        "data = {'INFP': 1832,\n",
        "        'INFJ': 1470,\n",
        "        'INTP': 1304,\n",
        "        'INTJ': 1091,\n",
        "        'ENTP': 685,\n",
        "        'ENFP': 675,\n",
        "        'ISTP': 337,\n",
        "        'ISFP': 271,\n",
        "        'ENTJ': 231,\n",
        "        'ISTJ': 205,\n",
        "        'ENFJ': 190,\n",
        "        'ISFJ': 166,\n",
        "        'ESTP': 89,\n",
        "        'ESFP': 48,\n",
        "        'ESFJ': 42,\n",
        "        'ESTJ': 39}\n",
        "\n",
        "mbti = list(data.keys())\n",
        "values = list(data.values())\n",
        "\n",
        "fig = plt.figure(figsize = (10, 5))\n",
        " \n",
        "# creating the bar plot\n",
        "plt.bar(mbti, values, color ='pink',\n",
        "        width = 0.4)\n",
        " \n",
        "plt.xlabel(\"MBTI Personality Types\")\n",
        "plt.ylabel(\"Number of entries\")\n",
        "plt.title(\"MBTI Imbalance\")\n",
        "plt.show()"
      ]
    },
    {
      "cell_type": "code",
      "source": [
        ""
      ],
      "metadata": {
        "id": "eOx1Irxz5B2Y"
      },
      "execution_count": null,
      "outputs": []
    }
  ]
}